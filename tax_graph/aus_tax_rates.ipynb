{
 "cells": [
  {
   "cell_type": "markdown",
   "metadata": {},
   "source": [
    "# Progressive tax and wage inflation"
   ]
  },
  {
   "cell_type": "markdown",
   "metadata": {},
   "source": [
    "This plot is created to see how Australia's tax brackets have moved through time as they are adjusted for inflation.\n",
    "\n",
    "This movement is seen nicely in ridgeline/waterfall/joyplot."
   ]
  },
  {
   "cell_type": "code",
   "execution_count": 1,
   "metadata": {},
   "outputs": [],
   "source": [
    "import pandas as pd\n",
    "import matplotlib.pyplot as plt"
   ]
  },
  {
   "cell_type": "code",
   "execution_count": 69,
   "metadata": {},
   "outputs": [
    {
     "name": "stdout",
     "output_type": "stream",
     "text": [
      "         0  1      2      3      4      5       6       7       8       9\n",
      "0  2022-23  0  18200  18201  45000  45001  120000  120001  180000  180001\n",
      "1  2021-22  0  18200  18201  45000  45001  120000  120001  180000  180001\n",
      "2  2020-21  0  18200  18201  45000  45001  120000  120001  180000  180001\n",
      "3  2019-20  0  18200  18201  37000  37001   90000   90001  180000  180001\n",
      "4  2018-19  0  18200  18201  37000  37001   90000   90001  180000  180001\n",
      "         0  1  2     3     4      5      6     7     8     9\n",
      "0  2022-23  0  0  0.19  0.19  0.325  0.325  0.37  0.37  0.45\n",
      "1  2021-22  0  0  0.19  0.19  0.325  0.325  0.37  0.37  0.45\n",
      "2  2020-21  0  0  0.19  0.19  0.325  0.325  0.37  0.37  0.45\n",
      "3  2019-20  0  0  0.19  0.19  0.325  0.325  0.37  0.37  0.45\n",
      "4  2018-19  0  0  0.19  0.19  0.325  0.325  0.37  0.37  0.45\n"
     ]
    }
   ],
   "source": [
    "# read in existing sheets\n",
    "dollars = pd.read_csv('dollars.csv', header=None)\n",
    "rates = pd.read_csv('rates.csv', header=None)\n",
    "\n",
    "print(dollars.head())\n",
    "print(rates.head())\n",
    "\n",
    "year_labels = dollars.iloc[:, 0].tolist() # vs to_list?\n",
    "# get rid of first column containing years\n",
    "d = dollars.iloc[:, 1:]\n",
    "r = rates.iloc[:, 1:]"
   ]
  },
  {
   "cell_type": "code",
   "execution_count": 8,
   "metadata": {},
   "outputs": [],
   "source": [
    "# use this code to add a new year manually\n",
    "\n",
    "dollars_2023 = pd.DataFrame([['2022-23', 0, 18200, 18201, 45000, 45001, 120000, 120001, 180000, 180001]])\n",
    "dollars_2023 = dollars_2023.append(dollars, ignore_index=True)\n",
    "# dollars_2023.to_csv('dollars_updated.csv', index=False, header=False)\n",
    "\n",
    "rates_2023 = pd.DataFrame([['2022-23', 0, 0, 0.19, 0.19, 0.325, 0.325, 0.37, 0.37, 0.45]])\n",
    "rates_2023 = rates_2023.append(rates, ignore_index=True)\n",
    "# rates_2023.to_csv('rates_updated.csv', index=False, header=False)"
   ]
  },
  {
   "cell_type": "code",
   "execution_count": 79,
   "metadata": {},
   "outputs": [
    {
     "data": {
      "text/plain": [
       "[Text(0, 0.0, '2022-23'), Text(0, 2.8000000000000003, '1994-95')]"
      ]
     },
     "execution_count": 79,
     "metadata": {},
     "output_type": "execute_result"
    },
    {
     "data": {
      "image/png": "[encoded data removed]",
      "text/plain": [
       "<Figure size 720x480 with 1 Axes>"
      ]
     },
     "metadata": {
      "needs_background": "light"
     },
     "output_type": "display_data"
    }
   ],
   "source": [
    "fig, ax = plt.subplots(dpi=120)\n",
    "\n",
    "mypurple = \"#84378e\"\n",
    "COLOR = \"w\"\n",
    "RIDGE_SPACING = 0.1\n",
    "NUM_POINTS = d.shape[1] # n cols\n",
    "NUM_OBS = d.shape[0] # n rows\n",
    "\n",
    "for ridge_num, year in enumerate(zip(d.values, r.values)):\n",
    "    dollar_row = year[0]\n",
    "    rate_row = year[1]\n",
    "    shifted_array = [RIDGE_SPACING*ridge_num]*NUM_POINTS\n",
    "\n",
    "    ax.plot(dollar_row,\n",
    "            rate_row + shifted_array,\n",
    "            color=COLOR,\n",
    "            linewidth=0.5\n",
    "            )\n",
    "\n",
    "    ax.fill_between(x=dollar_row,\n",
    "                    y1=rate_row + shifted_array,\n",
    "                    zorder=-ridge_num,\n",
    "                    color=\"purple\" if (ridge_num % 2 == 0) else mypurple\n",
    "                    )\n",
    "\n",
    "\n",
    "latest_year = year_labels[0]\n",
    "earliest_year = year_labels[-1]\n",
    "\n",
    "ax.set_yticks(ticks=[0, (NUM_OBS - 1)*RIDGE_SPACING])\n",
    "ax.set_yticklabels(labels=[latest_year, earliest_year])"
   ]
  }
 ],
 "metadata": {
  "interpreter": {
   "hash": "0294aecb2ba7b93af80ca26e79966195d96b34068e2310b0bd69382eb8999fe4"
  },
  "kernelspec": {
   "display_name": "Python 3.9.2 ('mytf')",
   "language": "python",
   "name": "python3"
  },
  "language_info": {
   "codemirror_mode": {
    "name": "ipython",
    "version": 3
   },
   "file_extension": ".py",
   "mimetype": "text/x-python",
   "name": "python",
   "nbconvert_exporter": "python",
   "pygments_lexer": "ipython3",
   "version": "3.9.2"
  },
  "orig_nbformat": 4
 },
 "nbformat": 4,
 "nbformat_minor": 2
}
